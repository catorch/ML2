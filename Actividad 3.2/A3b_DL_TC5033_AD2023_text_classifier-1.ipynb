{
 "cells": [
  {
   "cell_type": "markdown",
   "id": "940c6dbc",
   "metadata": {},
   "source": [
    "## TC 5033\n",
    "### Word Embeddings\n",
    "\n",
    "<br>\n",
    "\n",
    "#### Activity 3b: Text Classification using RNNs and AG_NEWS dataset in PyTorch\n",
    "<br>\n",
    "\n",
    "- Objective:\n",
    "    - Understand the basics of Recurrent Neural Networks (RNNs) and their application in text classification.\n",
    "    - Learn how to handle a real-world text dataset, AG_NEWS, in PyTorch.\n",
    "    - Gain hands-on experience in defining, training, and evaluating a text classification model in PyTorch.\n",
    "    \n",
    "<br>\n",
    "\n",
    "- Instructions:\n",
    "    - Data Preparation: Starter code will be provided that loads the AG_NEWS dataset and prepares it for training. Do not modify this part. However, you should be sure to understand it, and comment it, the use of markdown cells is suggested. \n",
    "\n",
    "    - Model Setup: A skeleton code for the RNN model class will be provided. Complete this class and use it to instantiate your model.\n",
    "\n",
    "    - Implementing Accuracy Function: Write a function that takes model predictions and ground truth labels as input and returns the model's accuracy.\n",
    "\n",
    "    - Training Function: Implement a function that performs training on the given model using the AG_NEWS dataset. Your model should achieve an accuracy of at least 80% to get full marks for this part.\n",
    "\n",
    "    - Text Sampling: Write a function that takes a sample text as input and classifies it using your trained model.\n",
    "\n",
    "    - Confusion Matrix: Implement a function to display the confusion matrix for your model on the test data.\n",
    "\n",
    "    - Submission: Submit your completed Jupyter Notebook. Make sure to include a markdown cell at the beginning of the notebook that lists the names of all team members. Teams should consist of 3 to 4 members.\n",
    "    \n",
    "<br>\n",
    "\n",
    "- Evaluation Criteria:\n",
    "\n",
    "    - Correct setup of all the required libraries and modules (10%)\n",
    "    - Code Quality (30%): Your code should be well-organized, clearly commented, and easy to follow. Use also markdown cells for clarity. Comments should be given for all the provided code, this will help you understand its functionality.\n",
    "    \n",
    "   - Functionality (60%): \n",
    "        - All the functions should execute without errors and provide the expected outputs.\n",
    "        - RNN model class (20%)\n",
    "        - Accuracy fucntion (10%)\n",
    "        - Training function (10%)\n",
    "        - Sampling function (10%)\n",
    "        - Confucion matrix (10%)\n",
    "\n",
    "        - The model should achieve at least an 80% accuracy on the AG_NEWS test set for full marks in this criterion.\n"
   ]
  },
  {
   "cell_type": "markdown",
   "id": "4de318da",
   "metadata": {},
   "source": [
    "Dataset\n",
    "\n",
    "https://pytorch.org/text/stable/datasets.html#text-classification\n",
    "\n",
    "https://paperswithcode.com/dataset/ag-news\n"
   ]
  },
  {
   "cell_type": "markdown",
   "id": "4a9801f9",
   "metadata": {},
   "source": [
    "### Import libraries"
   ]
  },
  {
   "cell_type": "code",
   "execution_count": null,
   "id": "54394f53",
   "metadata": {},
   "outputs": [],
   "source": [
    "# conda install -c pytorch torchtext\n",
    "# conda install -c pytorch torchdata\n",
    "# conda install pytorch torchvision torchaudio cudatoolkit=10.2 -c pytorch\n",
    "!pip install scikit-plot"
   ]
  },
  {
   "cell_type": "code",
   "execution_count": 17,
   "id": "878b524f",
   "metadata": {},
   "outputs": [],
   "source": [
    "# The following libraries are required for running the given code\n",
    "# Please feel free to add any libraries you consider adecuate to complete the assingment.\n",
    "import numpy as np\n",
    "#PyTorch libraries\n",
    "import torch\n",
    "from torchtext.datasets import AG_NEWS\n",
    "# Dataloader library\n",
    "from torch.utils.data import DataLoader\n",
    "from torch.utils.data.dataset import random_split\n",
    "# Libraries to prepare the data\n",
    "from torchtext.data.utils import get_tokenizer\n",
    "from torchtext.vocab import build_vocab_from_iterator\n",
    "from torchtext.data.functional import to_map_style_dataset\n",
    "# neural layers\n",
    "from torch import nn\n",
    "from torch.nn import functional as F\n",
    "\n",
    "# These libraries are suggested to plot confusion matrix\n",
    "# you may use others\n",
    "import scikitplot as skplt\n",
    "import gc"
   ]
  },
  {
   "cell_type": "code",
   "execution_count": 18,
   "id": "3bab55f3",
   "metadata": {},
   "outputs": [
    {
     "name": "stdout",
     "output_type": "stream",
     "text": [
      "cuda:1\n"
     ]
    }
   ],
   "source": [
    "# Use GPU if available\n",
    "device = torch.device(\"cuda:1\" if torch.cuda.is_available() else \"cpu\")\n",
    "print(device)"
   ]
  },
  {
   "cell_type": "markdown",
   "id": "3d38956d",
   "metadata": {},
   "source": [
    "### Get the train and the test datasets and dataloaders"
   ]
  },
  {
   "cell_type": "markdown",
   "id": "e9c6b784",
   "metadata": {},
   "source": [
    "Classes:\n",
    "\n",
    "* 1 - World\n",
    "\n",
    "* 2 - Sports\n",
    "\n",
    "* 3 - Business\n",
    "\n",
    "* 4 - Sci/Tech\n",
    "\n",
    "We will convert them to:\n",
    "\n",
    "* 0 - World\n",
    "\n",
    "* 1 - Sports\n",
    "\n",
    "* 2 - Business\n",
    "\n",
    "* 3 - Sci/Tech"
   ]
  },
  {
   "cell_type": "code",
   "execution_count": 19,
   "id": "49fbed19",
   "metadata": {},
   "outputs": [],
   "source": [
    "train_dataset, test_dataset = AG_NEWS()\n",
    "train_dataset, test_dataset = to_map_style_dataset(train_dataset), to_map_style_dataset(test_dataset)"
   ]
  },
  {
   "cell_type": "code",
   "execution_count": 20,
   "id": "9c372eb9",
   "metadata": {},
   "outputs": [],
   "source": [
    "# Get the tokeniser\n",
    "# tokeniser object\n",
    "tokeniser = get_tokenizer('basic_english')\n",
    "\n",
    "def yield_tokens(data):\n",
    "    for _, text in data:\n",
    "        yield tokeniser(text)"
   ]
  },
  {
   "cell_type": "code",
   "execution_count": 21,
   "id": "794d0375",
   "metadata": {},
   "outputs": [],
   "source": [
    "# Build the vocabulary\n",
    "vocab = build_vocab_from_iterator(yield_tokens(train_dataset), specials=[\"<unk>\"])\n",
    "#set unknown token at position 0\n",
    "vocab.set_default_index(vocab[\"<unk>\"])"
   ]
  },
  {
   "cell_type": "code",
   "execution_count": 22,
   "id": "b48268d4",
   "metadata": {},
   "outputs": [
    {
     "name": "stdout",
     "output_type": "stream",
     "text": [
      "['welcome', 'to', 'te3007'] [3314, 4, 0]\n"
     ]
    }
   ],
   "source": [
    "#test tokens\n",
    "tokens = tokeniser('Welcome to TE3007')\n",
    "print(tokens, vocab(tokens))"
   ]
  },
  {
   "cell_type": "code",
   "execution_count": 23,
   "id": "c8c8f6a6",
   "metadata": {},
   "outputs": [],
   "source": [
    "NUM_TRAIN = int(len(train_dataset)*0.9)\n",
    "NUM_VAL = len(train_dataset) - NUM_TRAIN"
   ]
  },
  {
   "cell_type": "code",
   "execution_count": 24,
   "id": "8290895e",
   "metadata": {},
   "outputs": [],
   "source": [
    "train_dataset, val_dataset = random_split(train_dataset, [NUM_TRAIN, NUM_VAL])"
   ]
  },
  {
   "cell_type": "code",
   "execution_count": 25,
   "id": "cbc75b54",
   "metadata": {},
   "outputs": [
    {
     "name": "stdout",
     "output_type": "stream",
     "text": [
      "108000 12000 7600\n"
     ]
    }
   ],
   "source": [
    "print(len(train_dataset), len(val_dataset), len(test_dataset))"
   ]
  },
  {
   "cell_type": "code",
   "execution_count": 37,
   "id": "ffdbf077",
   "metadata": {},
   "outputs": [],
   "source": [
    "# function passed to the DataLoader to process a batch of data as indicated\n",
    "def collate_batch(batch):\n",
    "    # Get label and text\n",
    "    y, x = list(zip(*batch))\n",
    "    \n",
    "    # Create list with indices from tokeniser\n",
    "    x = [vocab(tokeniser(text)) for text in x]\n",
    "    x = [t + ([0]*(max_tokens - len(t))) if len(t) < max_tokens else t[:max_tokens] for t in x]\n",
    "\n",
    "    # Prepare the labels, by subtracting 1 to get them in the range 0-3\n",
    "    return torch.tensor(x, dtype=torch.int64), torch.tensor(y, dtype=torch.int64) - 1"
   ]
  },
  {
   "cell_type": "code",
   "execution_count": 38,
   "id": "5eb459c7",
   "metadata": {},
   "outputs": [],
   "source": [
    "labels =  [\"World\", \"Sports\", \"Business\", \"Sci/Tech\"]\n",
    "max_tokens = 50\n",
    "BATCH_SIZE = 256"
   ]
  },
  {
   "cell_type": "code",
   "execution_count": 39,
   "id": "0a55e6ee",
   "metadata": {},
   "outputs": [],
   "source": [
    "train_loader = DataLoader(train_dataset, batch_size=BATCH_SIZE, collate_fn=collate_batch, shuffle = True)\n",
    "val_loader = DataLoader(val_dataset, batch_size=BATCH_SIZE, collate_fn=collate_batch, shuffle = True)\n",
    "test_loader = DataLoader(test_dataset, batch_size=BATCH_SIZE, collate_fn=collate_batch, shuffle = True)"
   ]
  },
  {
   "cell_type": "markdown",
   "id": "47b98898",
   "metadata": {},
   "source": [
    "### Let us build our RNN model"
   ]
  },
  {
   "cell_type": "code",
   "execution_count": 76,
   "id": "0f7f5621",
   "metadata": {},
   "outputs": [],
   "source": [
    "class RNN_Model_1(nn.Module):\n",
    "    def __init__(self, embed_size, hidden, layers, num_classes, dropout=0.5):\n",
    "        super().__init__()\n",
    "        self.embedding_layer = nn.Embedding(num_embeddings=len(vocab), \n",
    "                                            embedding_dim=embed_size)\n",
    "        \n",
    "        self.rnn = nn.LSTM(embed_size, 2 * hidden, layers, batch_first=True, dropout=dropout)\n",
    "                        \n",
    "        \n",
    "        self.fc = nn.Linear(2 * hidden, num_classes)\n",
    "        \n",
    "    def forward(self, x):\n",
    "        px = x.long()  \n",
    "        \n",
    "        # Embedding layer output: (batch_size, sequence_length, embed_size)\n",
    "        embeds = self.embedding_layer(x)\n",
    "        \n",
    "        # RNN/LSTM layer output: (batch_size, sequence_length, hidden_size)\n",
    "        # We will use only the last hidden state to pass through the fully connected layer\n",
    "        # lstm_out: (batch, seq_len, num_directions * hidden_size)\n",
    "        # hidden: (num_layers * num_directions, batch, hidden_size)\n",
    "        lstm_out, hidden = self.rnn(embeds)\n",
    "        \n",
    "        # Take the last time step's output for the fully connected layer\n",
    "        # (batch_size, hidden_size)\n",
    "        last_output = lstm_out[:, -1, :]\n",
    "        \n",
    "        # Fully connected layer output: (batch_size, num_classes)\n",
    "        out = self.fc(last_output)\n",
    "        \n",
    "        return out"
   ]
  },
  {
   "cell_type": "code",
   "execution_count": 77,
   "id": "2a42613f",
   "metadata": {
    "code_folding": []
   },
   "outputs": [],
   "source": [
    "def accuracy(model, loader):\n",
    "    model.eval()\n",
    "    correct = 0\n",
    "    total = 0\n",
    "    with torch.no_grad():\n",
    "        for x, y in loader:\n",
    "            x, y = x.to(device), y.to(device)\n",
    "            outputs = model(x)\n",
    "            _, predicted = torch.max(outputs, 1)\n",
    "            total += y.size(0)\n",
    "            correct += (predicted == y).sum().item()\n",
    "    return 100 * correct / total"
   ]
  },
  {
   "cell_type": "code",
   "execution_count": 78,
   "id": "5e843e1f",
   "metadata": {
    "code_folding": []
   },
   "outputs": [],
   "source": [
    "def train(model, train_loader, val_loader, optimiser, scheduler, epochs=10, patience=10):\n",
    "    best_val_acc = 0\n",
    "    no_improvement_count = 0\n",
    "    for epoch in range(epochs):\n",
    "        model.train()\n",
    "        running_loss = 0.0\n",
    "        for i, (x, y) in enumerate(train_loader):\n",
    "            x, y = x.to(device), y.to(device)\n",
    "            optimiser.zero_grad()\n",
    "            outputs = model(x)\n",
    "            loss = F.cross_entropy(outputs, y)\n",
    "            loss.backward()\n",
    "            optimiser.step()\n",
    "            running_loss += loss.item()\n",
    "\n",
    "        avg_loss = running_loss / len(train_loader)\n",
    "        train_acc = accuracy(model, train_loader)\n",
    "        val_acc = accuracy(model, val_loader)\n",
    "\n",
    "        # Step the scheduler based on the validation accuracy\n",
    "        scheduler.step(val_acc)\n",
    "\n",
    "        print(f'Epoch {epoch+1}/{epochs}, Loss: {avg_loss:.4f}, Training Accuracy: {train_acc:.2f}, Validation Accuracy: {val_acc:.2f}')\n",
    "\n",
    "        # Check for early stopping condition\n",
    "        if val_acc > best_val_acc:\n",
    "            best_val_acc = val_acc\n",
    "            no_improvement_count = 0\n",
    "        else:\n",
    "            no_improvement_count += 1\n",
    "            if no_improvement_count > patience:\n",
    "                print(f'No improvement in validation accuracy for {patience} consecutive epochs. Stopping early.')\n",
    "                break\n",
    "\n",
    "    print('Finished Training')"
   ]
  },
  {
   "cell_type": "code",
   "execution_count": 97,
   "id": "50f20793",
   "metadata": {},
   "outputs": [],
   "source": [
    "EMBEDDING_SIZE = 128\n",
    "NEURONS = 256\n",
    "LAYERS = 2\n",
    "NUM_CLASSES = 4\n",
    "DROPOUT = 0.9"
   ]
  },
  {
   "cell_type": "code",
   "execution_count": 98,
   "id": "87775b29",
   "metadata": {},
   "outputs": [],
   "source": [
    "epochs = 20\n",
    "lr = 1e-3\n",
    "# instantiate model\n",
    "rnn_model = RNN_Model_1(EMBEDDING_SIZE, NEURONS, LAYERS, NUM_CLASSES, DROPOUT)\n",
    "rnn_model = rnn_model.to(device)\n",
    "optimiser = torch.optim.AdamW(rnn_model.parameters(), lr=lr, weight_decay=1e-1)\n",
    "scheduler = torch.optim.lr_scheduler.ReduceLROnPlateau(optimiser, mode='max', factor=0.1, patience=3, verbose=True)\n",
    "\n"
   ]
  },
  {
   "cell_type": "code",
   "execution_count": 99,
   "id": "aec12a1b",
   "metadata": {
    "scrolled": true
   },
   "outputs": [
    {
     "name": "stdout",
     "output_type": "stream",
     "text": [
      "Epoch 1/20, Loss: 0.8522, Training Accuracy: 84.93, Validation Accuracy: 83.36\n",
      "Epoch 2/20, Loss: 0.3787, Training Accuracy: 90.58, Validation Accuracy: 88.51\n",
      "Epoch 3/20, Loss: 0.2782, Training Accuracy: 92.42, Validation Accuracy: 89.15\n",
      "Epoch 4/20, Loss: 0.2192, Training Accuracy: 94.52, Validation Accuracy: 90.92\n",
      "Epoch 5/20, Loss: 0.1797, Training Accuracy: 95.43, Validation Accuracy: 90.85\n",
      "Epoch 6/20, Loss: 0.1479, Training Accuracy: 96.50, Validation Accuracy: 91.07\n",
      "Epoch 7/20, Loss: 0.1232, Training Accuracy: 96.90, Validation Accuracy: 90.85\n",
      "Epoch 8/20, Loss: 0.1031, Training Accuracy: 97.60, Validation Accuracy: 90.78\n",
      "Epoch 9/20, Loss: 0.0872, Training Accuracy: 98.26, Validation Accuracy: 91.10\n",
      "Epoch 10/20, Loss: 0.0720, Training Accuracy: 98.60, Validation Accuracy: 90.89\n",
      "Epoch 11/20, Loss: 0.0630, Training Accuracy: 98.73, Validation Accuracy: 90.93\n",
      "Epoch 12/20, Loss: 0.0536, Training Accuracy: 99.00, Validation Accuracy: 90.90\n",
      "Epoch 00013: reducing learning rate of group 0 to 1.0000e-04.\n",
      "Epoch 13/20, Loss: 0.0481, Training Accuracy: 99.00, Validation Accuracy: 91.02\n",
      "Epoch 14/20, Loss: 0.0262, Training Accuracy: 99.49, Validation Accuracy: 91.22\n",
      "Epoch 15/20, Loss: 0.0188, Training Accuracy: 99.63, Validation Accuracy: 90.99\n",
      "Epoch 16/20, Loss: 0.0156, Training Accuracy: 99.68, Validation Accuracy: 90.99\n",
      "Epoch 17/20, Loss: 0.0135, Training Accuracy: 99.73, Validation Accuracy: 90.97\n",
      "Epoch 00018: reducing learning rate of group 0 to 1.0000e-05.\n",
      "Epoch 18/20, Loss: 0.0118, Training Accuracy: 99.75, Validation Accuracy: 91.03\n",
      "Epoch 19/20, Loss: 0.0097, Training Accuracy: 99.79, Validation Accuracy: 90.93\n",
      "Epoch 20/20, Loss: 0.0090, Training Accuracy: 99.79, Validation Accuracy: 90.88\n",
      "Finished Training\n"
     ]
    }
   ],
   "source": [
    "train(rnn_model, train_loader, val_loader, optimiser, scheduler, epochs=20, patience=10)"
   ]
  },
  {
   "cell_type": "code",
   "execution_count": 100,
   "id": "7a3ef175",
   "metadata": {},
   "outputs": [
    {
     "name": "stdout",
     "output_type": "stream",
     "text": [
      "90.8158\n"
     ]
    }
   ],
   "source": [
    "print(f'{accuracy(rnn_model, test_loader):.4f}')"
   ]
  },
  {
   "cell_type": "code",
   "execution_count": 87,
   "id": "ed30693d",
   "metadata": {},
   "outputs": [],
   "source": [
    "from sklearn.metrics import confusion_matrix\n",
    "import matplotlib.pyplot as plt\n",
    "import seaborn as sns\n",
    "\n",
    "def evaluate_model(model, test_loader):\n",
    "    # Ensure the model is in evaluation mode\n",
    "    model.eval()\n",
    "\n",
    "    # Initialize lists to store true labels and predictions\n",
    "    true_labels = []\n",
    "    predictions = []\n",
    "\n",
    "    # No need to track gradients for validation, hence wrap in torch.no_grad()\n",
    "    with torch.no_grad():\n",
    "        for batch in test_loader:\n",
    "            x, y = batch\n",
    "            x, y = x.to(device), y.to(device)\n",
    "\n",
    "            # Get the model's predictions\n",
    "            output = model(x)\n",
    "\n",
    "            # Get the predicted class with the highest score\n",
    "            _, predicted = torch.max(output, 1)\n",
    "\n",
    "            # Extend the lists\n",
    "            true_labels.extend(y.cpu().numpy())\n",
    "            predictions.extend(predicted.cpu().numpy())\n",
    "\n",
    "    # Calculate the confusion matrix using sklearn\n",
    "    cm = confusion_matrix(true_labels, predictions)\n",
    "\n",
    "    return true_labels, predictions, cm\n",
    "\n",
    "def plot_confusion_matrix(cm, class_names):\n",
    "    # Normalize the confusion matrix\n",
    "    cm_normalized = cm.astype('float') / cm.sum(axis=1)[:, np.newaxis]\n",
    "\n",
    "    # Plot using seaborn\n",
    "    plt.figure(figsize=(8, 6))\n",
    "    sns.heatmap(cm_normalized, annot=True, fmt=\".2f\", cmap=\"Blues\", xticklabels=class_names, yticklabels=class_names)\n",
    "    plt.ylabel('Actual')\n",
    "    plt.xlabel('Predicted')\n",
    "    plt.title('Confusion Matrix')\n",
    "    plt.show()\n"
   ]
  },
  {
   "cell_type": "code",
   "execution_count": 88,
   "id": "534f0220",
   "metadata": {},
   "outputs": [],
   "source": [
    "# Evaluate the model\n",
    "true_labels, predictions, cm = evaluate_model(rnn_model, test_loader)"
   ]
  },
  {
   "cell_type": "code",
   "execution_count": 89,
   "id": "bb38e093",
   "metadata": {},
   "outputs": [
    {
     "data": {
      "image/png": "[encoded data removed]",
      "text/plain": [
       "<Figure size 800x600 with 2 Axes>"
      ]
     },
     "metadata": {},
     "output_type": "display_data"
    }
   ],
   "source": [
    "# Plot the confusion matrix\n",
    "plot_confusion_matrix(cm, labels)"
   ]
  },
  {
   "cell_type": "code",
   "execution_count": 90,
   "id": "e7d73f69",
   "metadata": {},
   "outputs": [],
   "source": [
    "class GRU_Model(nn.Module):\n",
    "    def __init__(self, embed_size, hidden_size, layers, num_classes, dropout=0.5):\n",
    "        super().__init__()\n",
    "        self.embedding_layer = nn.Embedding(num_embeddings=len(vocab), \n",
    "                                            embedding_dim=embed_size)        \n",
    "        \n",
    "        self.gru = nn.GRU(embed_size, hidden_size, layers, \n",
    "                          batch_first=True, dropout=dropout if layers > 1 else 0)\n",
    "        \n",
    "        self.fc = nn.Linear(hidden_size, num_classes)\n",
    "        \n",
    "    def forward(self, x):\n",
    "        # Ensure input tensor is long type for embedding lookup\n",
    "        x = x.long()\n",
    "        \n",
    "        # Embedding layer output\n",
    "        embeds = self.embedding_layer(x)\n",
    "        \n",
    "        # GRU layer output\n",
    "        gru_out, hidden = self.gru(embeds)\n",
    "        \n",
    "        # Only use the output from the final time step\n",
    "        last_output = gru_out[:, -1, :]\n",
    "        \n",
    "        # Fully connected layer output\n",
    "        out = self.fc(last_output)\n",
    "        \n",
    "        return out\n"
   ]
  },
  {
   "cell_type": "code",
   "execution_count": 91,
   "id": "5327e204",
   "metadata": {},
   "outputs": [],
   "source": [
    "epochs = 20\n",
    "lr = 1e-3\n",
    "# instantiate model\n",
    "gru_model  = GRU_Model(EMBEDDING_SIZE, NEURONS, LAYERS, NUM_CLASSES, DROPOUT)\n",
    "gru_model  = gru_model .to(device)\n",
    "optimiser = torch.optim.AdamW(gru_model .parameters(), lr=lr, weight_decay=1e-1)\n",
    "scheduler = torch.optim.lr_scheduler.ReduceLROnPlateau(optimiser, mode='max', factor=0.1, patience=3, verbose=True)"
   ]
  },
  {
   "cell_type": "code",
   "execution_count": 92,
   "id": "7bc921f9",
   "metadata": {},
   "outputs": [
    {
     "name": "stdout",
     "output_type": "stream",
     "text": [
      "Epoch 1/20, Loss: 0.6707, Training Accuracy: 89.37, Validation Accuracy: 87.69\n",
      "Epoch 2/20, Loss: 0.2923, Training Accuracy: 92.61, Validation Accuracy: 89.67\n",
      "Epoch 3/20, Loss: 0.2144, Training Accuracy: 94.35, Validation Accuracy: 90.36\n",
      "Epoch 4/20, Loss: 0.1685, Training Accuracy: 95.09, Validation Accuracy: 89.91\n",
      "Epoch 5/20, Loss: 0.1307, Training Accuracy: 97.06, Validation Accuracy: 91.16\n",
      "Epoch 6/20, Loss: 0.1034, Training Accuracy: 98.00, Validation Accuracy: 90.74\n",
      "Epoch 7/20, Loss: 0.0774, Training Accuracy: 98.41, Validation Accuracy: 90.83\n",
      "Epoch 8/20, Loss: 0.0611, Training Accuracy: 98.56, Validation Accuracy: 90.37\n",
      "Epoch 00009: reducing learning rate of group 0 to 1.0000e-04.\n",
      "Epoch 9/20, Loss: 0.0495, Training Accuracy: 99.13, Validation Accuracy: 90.83\n",
      "Epoch 10/20, Loss: 0.0239, Training Accuracy: 99.55, Validation Accuracy: 91.08\n",
      "Epoch 11/20, Loss: 0.0176, Training Accuracy: 99.65, Validation Accuracy: 91.15\n",
      "Epoch 12/20, Loss: 0.0144, Training Accuracy: 99.72, Validation Accuracy: 91.13\n",
      "Epoch 00013: reducing learning rate of group 0 to 1.0000e-05.\n",
      "Epoch 13/20, Loss: 0.0120, Training Accuracy: 99.75, Validation Accuracy: 91.03\n",
      "Epoch 14/20, Loss: 0.0095, Training Accuracy: 99.77, Validation Accuracy: 91.14\n",
      "Epoch 15/20, Loss: 0.0092, Training Accuracy: 99.78, Validation Accuracy: 91.15\n",
      "Epoch 16/20, Loss: 0.0088, Training Accuracy: 99.79, Validation Accuracy: 91.03\n",
      "No improvement in validation accuracy for 10 consecutive epochs. Stopping early.\n",
      "Finished Training\n"
     ]
    }
   ],
   "source": [
    "train(gru_model, train_loader, val_loader, optimiser, scheduler, epochs=20, patience=10)"
   ]
  },
  {
   "cell_type": "code",
   "execution_count": 93,
   "id": "ed62b0d5",
   "metadata": {},
   "outputs": [
    {
     "name": "stdout",
     "output_type": "stream",
     "text": [
      "90.9079\n"
     ]
    }
   ],
   "source": [
    "print(f'{accuracy(gru_model, test_loader):.4f}')"
   ]
  },
  {
   "cell_type": "code",
   "execution_count": 101,
   "id": "1c82cfd3",
   "metadata": {},
   "outputs": [],
   "source": [
    "# Evaluate the model\n",
    "true_labels, predictions, cm = evaluate_model(gru_model, test_loader)"
   ]
  },
  {
   "cell_type": "code",
   "execution_count": 102,
   "id": "0a9c118d",
   "metadata": {},
   "outputs": [
    {
     "data": {
      "image/png": "[encoded data removed]",
      "text/plain": [
       "<Figure size 800x600 with 2 Axes>"
      ]
     },
     "metadata": {},
     "output_type": "display_data"
    }
   ],
   "source": [
    "# Plot the confusion matrix\n",
    "plot_confusion_matrix(cm, labels)"
   ]
  },
  {
   "cell_type": "code",
   "execution_count": 118,
   "id": "87b7688a",
   "metadata": {},
   "outputs": [
    {
     "name": "stdout",
     "output_type": "stream",
     "text": [
      "The predicted class is: Business\n"
     ]
    }
   ],
   "source": [
    "def sample_text(model, text, vocab, tokenizer, max_tokens=50):\n",
    "    # Ensure model is in evaluation mode\n",
    "    model.eval()\n",
    "\n",
    "    # Tokenize and numericalize the text\n",
    "    tokens = tokenizer(text)\n",
    "    indices = [vocab[token] for token in tokens]\n",
    "  \n",
    "    indices = indices[:max_tokens]\n",
    "\n",
    "    # Convert to tensor and add batch dimension\n",
    "    indices_tensor = torch.tensor(indices, dtype=torch.long).unsqueeze(0).to(device)\n",
    "\n",
    "    # Get the model prediction\n",
    "    with torch.no_grad():\n",
    "        output = model(indices_tensor)\n",
    "\n",
    "    # Convert output probabilities to predicted class\n",
    "    _, predicted = torch.max(output, 1)\n",
    "    predicted_class = predicted.item()\n",
    "\n",
    "    return predicted_class\n",
    "\n",
    "my_text = \"Traders Say UK Inflation Risks Undoing Aggressive Rate-Cut Bets\"\n",
    "predicted_class = sample_text(gru_model, my_text, vocab, tokeniser)\n",
    "print(f\"The predicted class is: {labels[predicted_class]}\")\n"
   ]
  },
  {
   "cell_type": "code",
   "execution_count": 119,
   "id": "8df62478",
   "metadata": {},
   "outputs": [
    {
     "name": "stdout",
     "output_type": "stream",
     "text": [
      "The predicted class is: Sci/Tech\n"
     ]
    }
   ],
   "source": [
    "my_text_2 = \"Apple Is Taking Extra Care With ‘Ambitious’ iOS 18 Update\"\n",
    "predicted_class = sample_text(gru_model, my_text_2, vocab, tokeniser)\n",
    "print(f\"The predicted class is: {labels[predicted_class]}\")"
   ]
  }
 ],
 "metadata": {
  "kernelspec": {
   "display_name": "Python 3 (ipykernel)",
   "language": "python",
   "name": "python3"
  },
  "language_info": {
   "codemirror_mode": {
    "name": "ipython",
    "version": 3
   },
   "file_extension": ".py",
   "mimetype": "text/x-python",
   "name": "python",
   "nbconvert_exporter": "python",
   "pygments_lexer": "ipython3",
   "version": "3.8.17"
  },
  "varInspector": {
   "cols": {
    "lenName": 16,
    "lenType": 16,
    "lenVar": 40
   },
   "kernels_config": {
    "python": {
     "delete_cmd_postfix": "",
     "delete_cmd_prefix": "del ",
     "library": "var_list.py",
     "varRefreshCmd": "print(var_dic_list())"
    },
    "r": {
     "delete_cmd_postfix": ") ",
     "delete_cmd_prefix": "rm(",
     "library": "var_list.r",
     "varRefreshCmd": "cat(var_dic_list()) "
    }
   },
   "types_to_exclude": [
    "module",
    "function",
    "builtin_function_or_method",
    "instance",
    "_Feature"
   ],
   "window_display": false
  }
 },
 "nbformat": 4,
 "nbformat_minor": 5
}
